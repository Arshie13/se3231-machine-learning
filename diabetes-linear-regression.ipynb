{
 "cells": [
  {
   "cell_type": "code",
   "execution_count": null,
   "id": "bdb8af87-3cf7-442b-8331-975d51a88f71",
   "metadata": {},
   "outputs": [],
   "source": [
    "import numpy as np  \n",
    "import pandas as pd  \n",
    "import matplotlib.pyplot as plt  \n",
    "import seaborn as sns  \n",
    "from sklearn.model_selection import train_test_split  \n",
    "from sklearn.linear_model import LinearRegression  \n",
    "from sklearn.metrics import mean_squared_error, r2_score  "
   ]
  },
  {
   "cell_type": "code",
   "execution_count": null,
   "id": "bf93333c-9c73-416c-bcbe-0867969d9714",
   "metadata": {},
   "outputs": [],
   "source": [
    "df = pd.read_csv(\"csv/diabetes.csv\")"
   ]
  },
  {
   "cell_type": "code",
   "execution_count": null,
   "id": "e3b3b9e0-ef59-4060-af79-cf46aa330d59",
   "metadata": {},
   "outputs": [],
   "source": [
    "df.head()"
   ]
  },
  {
   "cell_type": "code",
   "execution_count": null,
   "id": "95ffc964-f869-425b-bdc8-97c47084fcb1",
   "metadata": {},
   "outputs": [],
   "source": [
    "df.info()"
   ]
  },
  {
   "cell_type": "code",
   "execution_count": null,
   "id": "194064a1-7487-43e5-a9a5-70089a0c62a2",
   "metadata": {},
   "outputs": [],
   "source": [
    "X = df[[\"Glucose\"]]  # Feature (independent variable)\n",
    "Y = df[\"Outcome\"]  # Target (dependent variable)"
   ]
  },
  {
   "cell_type": "code",
   "execution_count": null,
   "id": "16d464ea-6c11-4f4f-b90b-ad4f57bc31ed",
   "metadata": {},
   "outputs": [],
   "source": [
    "X_train, X_test, Y_train, Y_test = train_test_split(X, Y, test_size=0.2, random_state=42)"
   ]
  },
  {
   "cell_type": "code",
   "execution_count": null,
   "id": "e1930c33-60a7-4086-9a25-b3ee45f91053",
   "metadata": {},
   "outputs": [],
   "source": [
    "print(\"Training Set:\")\n",
    "print(X_train)\n",
    "print(Y_train)\n",
    "\n",
    "print(\"\\nTesting Set:\")\n",
    "print(X_test)\n",
    "print(Y_test)"
   ]
  },
  {
   "cell_type": "code",
   "execution_count": null,
   "id": "3e8466bc-6e9d-41a3-8925-25e724442f97",
   "metadata": {},
   "outputs": [],
   "source": [
    "model = LinearRegression()\n",
    "model.fit(X_train, Y_train)"
   ]
  },
  {
   "cell_type": "code",
   "execution_count": null,
   "id": "ea566213-3825-45ae-8ddf-6f8a58ae5ab7",
   "metadata": {},
   "outputs": [],
   "source": [
    "print(f\"Intercept (b): {model.intercept_:.2f}\")  # No indexing needed\n",
    "print(f\"Coefficient (m): {model.coef_[0]:.2f}\")  # Use [0] to extract number"
   ]
  },
  {
   "cell_type": "code",
   "execution_count": null,
   "id": "57b5e290-ff03-426d-87b9-928033e60a3b",
   "metadata": {},
   "outputs": [],
   "source": [
    "Y_pred = model.predict(X_test)"
   ]
  },
  {
   "cell_type": "code",
   "execution_count": null,
   "id": "cb3b4b37-60b0-49ef-9cae-bfd941c209bd",
   "metadata": {},
   "outputs": [],
   "source": [
    "plt.figure(figsize=(8,6))\n",
    "\n",
    "# Scatter plot of actual \n",
    "sns.scatterplot(x=X_test.values.flatten(), y=Y_test.values.flatten(), color=\"blue\", label=\"Actual\")\n",
    "\n",
    "# Scatter plot of predicted\n",
    "sns.scatterplot(x=X_test.values.flatten(), y=Y_pred.flatten(), color=\"red\", label=\"Predicted\")\n",
    "\n",
    "plt.xlabel(\"Glucose\")\n",
    "plt.ylabel(\"Outcome\")\n",
    "plt.title(\"Actual vs Predicted Values\")\n",
    "plt.legend()\n",
    "plt.show()"
   ]
  },
  {
   "cell_type": "code",
   "execution_count": null,
   "id": "8b08bad5-2e38-468b-930b-2f01b6605be8",
   "metadata": {},
   "outputs": [],
   "source": [
    "mse = mean_squared_error(Y_test, Y_pred)\n",
    "r2 = r2_score(Y_test, Y_pred)\n",
    "\n",
    "print(f\"Mean Squared Error (MSE): {mse:.2f}\")\n",
    "print(f\"R² Score: {r2:.2f}\")"
   ]
  }
 ],
 "metadata": {
  "kernelspec": {
   "display_name": "venv",
   "language": "python",
   "name": "python3"
  },
  "language_info": {
   "codemirror_mode": {
    "name": "ipython",
    "version": 3
   },
   "file_extension": ".py",
   "mimetype": "text/x-python",
   "name": "python",
   "nbconvert_exporter": "python",
   "pygments_lexer": "ipython3",
   "version": "3.12.4"
  }
 },
 "nbformat": 4,
 "nbformat_minor": 5
}
