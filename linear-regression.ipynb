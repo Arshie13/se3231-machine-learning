{
 "cells": [
  {
   "cell_type": "code",
   "execution_count": null,
   "id": "1f184720-eaab-486f-99c3-93570d439bd3",
   "metadata": {},
   "outputs": [],
   "source": [
    "import numpy as np  \n",
    "import pandas as pd  \n",
    "import matplotlib.pyplot as plt  \n",
    "import seaborn as sns  \n",
    "from sklearn.model_selection import train_test_split  \n",
    "from sklearn.linear_model import LinearRegression  \n",
    "from sklearn.metrics import mean_squared_error, r2_score  "
   ]
  },
  {
   "cell_type": "code",
   "execution_count": null,
   "id": "f71c3e16-41dd-4825-9b77-40269cbfaa5f",
   "metadata": {},
   "outputs": [],
   "source": [
    "df = pd.read_csv('csv/salaries.csv')"
   ]
  },
  {
   "cell_type": "code",
   "execution_count": null,
   "id": "2053d28d-03ac-4e3c-826f-62e07d5b3f80",
   "metadata": {},
   "outputs": [],
   "source": [
    "plt.figure(figsize=(8,6))\n",
    "sns.scatterplot(x=df[\"years_of_experience\"], y=df[\"salary\"], color=\"blue\")\n",
    "plt.xlabel(\"Years of Experience\")\n",
    "plt.ylabel(\"Salary\")\n",
    "plt.title(\"Years of Experience vs. Salary\")\n",
    "plt.show()"
   ]
  },
  {
   "cell_type": "code",
   "execution_count": null,
   "id": "c46f4f01-3e5a-4a09-85ea-715456f1569a",
   "metadata": {},
   "outputs": [],
   "source": [
    "X = df[[\"years_of_experience\"]]  # Feature (independent variable)\n",
    "y = df[\"salary\"]  # Target (dependent variable)\n"
   ]
  },
  {
   "cell_type": "code",
   "execution_count": null,
   "id": "63511163-2f92-48bc-b2d1-bd8f0e391afb",
   "metadata": {},
   "outputs": [],
   "source": [
    "X_train, X_test, y_train, y_test = train_test_split(X, y, test_size=0.2, random_state=42)"
   ]
  },
  {
   "cell_type": "code",
   "execution_count": null,
   "id": "0951f05c-5453-422d-833b-22e3d228aea7",
   "metadata": {},
   "outputs": [],
   "source": [
    "print(\"Training Set:\")\n",
    "print(X_train)\n",
    "print(y_train)\n",
    "\n",
    "print(\"\\nTesting Set:\")\n",
    "print(X_test)\n",
    "print(y_test)\n"
   ]
  },
  {
   "cell_type": "code",
   "execution_count": null,
   "id": "ab2e4649-9537-4e90-bed2-a141c37361d2",
   "metadata": {},
   "outputs": [],
   "source": [
    "model = LinearRegression()\n",
    "model.fit(X_train, y_train)"
   ]
  },
  {
   "cell_type": "code",
   "execution_count": null,
   "id": "800cff00-6bd5-43de-9917-091b3c5b5070",
   "metadata": {},
   "outputs": [],
   "source": [
    "print(f\"Intercept (b): {model.intercept_:.2f}\")  # No indexing needed\n",
    "print(f\"Coefficient (m): {model.coef_[0]:.2f}\")  # Use [0] to extract number"
   ]
  },
  {
   "cell_type": "code",
   "execution_count": null,
   "id": "ccbcba88-0294-4fb7-88f5-0f0a0e688976",
   "metadata": {},
   "outputs": [],
   "source": [
    "Y_pred = model.predict(X_test)"
   ]
  },
  {
   "cell_type": "code",
   "execution_count": null,
   "id": "991d8fdb-21ee-468b-ae6c-8af218ef1368",
   "metadata": {},
   "outputs": [],
   "source": [
    "plt.figure(figsize=(8,6))\n",
    "\n",
    "# Scatter plot of actual salaries\n",
    "sns.scatterplot(x=X_test.values.flatten(), y=y_test.values.flatten(), color=\"blue\", label=\"Actual\")\n",
    "\n",
    "# Scatter plot of predicted salaries\n",
    "sns.scatterplot(x=X_test.values.flatten(), y=Y_pred.flatten(), color=\"red\", label=\"Predicted\")\n",
    "\n",
    "plt.xlabel(\"Years of Experience\")\n",
    "plt.ylabel(\"Salary\")\n",
    "plt.title(\"Actual vs Predicted Salaries\")\n",
    "plt.legend()\n",
    "plt.show()"
   ]
  },
  {
   "cell_type": "code",
   "execution_count": null,
   "id": "24197358-b80e-4667-ac2b-40d919b66e57",
   "metadata": {},
   "outputs": [],
   "source": [
    "mse = mean_squared_error(y_test, Y_pred)\n",
    "r2 = r2_score(y_test, Y_pred)\n",
    "\n",
    "print(f\"Mean Squared Error (MSE): {mse:.2f}\")\n",
    "print(f\"R² Score: {r2:.2f}\")"
   ]
  },
  {
   "cell_type": "code",
   "execution_count": null,
   "id": "55793b77-9160-4ea0-9742-b718b8e1bcd2",
   "metadata": {},
   "outputs": [],
   "source": [
    "salary_variance = np.var(y_test)\n",
    "print(f\"Salary Variance: {salary_variance:.2f}\")\n"
   ]
  }
 ],
 "metadata": {
  "kernelspec": {
   "display_name": "Python 3 (ipykernel)",
   "language": "python",
   "name": "python3"
  },
  "language_info": {
   "codemirror_mode": {
    "name": "ipython",
    "version": 3
   },
   "file_extension": ".py",
   "mimetype": "text/x-python",
   "name": "python",
   "nbconvert_exporter": "python",
   "pygments_lexer": "ipython3",
   "version": "3.12.0"
  }
 },
 "nbformat": 4,
 "nbformat_minor": 5
}
