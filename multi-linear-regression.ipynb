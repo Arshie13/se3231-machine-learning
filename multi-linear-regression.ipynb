{
 "cells": [
  {
   "cell_type": "code",
   "execution_count": null,
   "id": "4c8c6149-aa1c-4393-a6fb-b16dad7a4e26",
   "metadata": {},
   "outputs": [],
   "source": [
    "import numpy as np  \n",
    "import pandas as pd  \n",
    "import matplotlib.pyplot as plt  \n",
    "import seaborn as sns  \n",
    "from sklearn.model_selection import train_test_split  \n",
    "from sklearn.linear_model import LinearRegression  \n",
    "from sklearn.metrics import mean_squared_error, r2_score  \n",
    "from sklearn.preprocessing import LabelEncoder"
   ]
  },
  {
   "cell_type": "code",
   "execution_count": null,
   "id": "aae035af-69dc-4e2d-a57c-6b2730c0b6ae",
   "metadata": {},
   "outputs": [],
   "source": [
    "df = pd.read_csv('csv/StudentPerformanceFactors.csv')"
   ]
  },
  {
   "cell_type": "code",
   "execution_count": null,
   "id": "4511af66-3000-455a-a60d-e3c508096647",
   "metadata": {},
   "outputs": [],
   "source": [
    "df.head()"
   ]
  },
  {
   "cell_type": "code",
   "execution_count": null,
   "id": "69f354a6-d268-4a83-bea5-b6d7b38dea6d",
   "metadata": {},
   "outputs": [],
   "source": [
    "# Apply Label Encoding for Ordered Categories\n",
    "ordinal_columns = [\"Parental_Involvement\", \"Teacher_Quality\", \"Parental_Education_Level\", \"Distance_from_Home\", \"Family_Income\"]\n",
    "encoder = LabelEncoder()\n",
    "\n",
    "for col in ordinal_columns:\n",
    "    df[col] = encoder.fit_transform(df[col])"
   ]
  },
  {
   "cell_type": "code",
   "execution_count": null,
   "id": "53076877-37fe-4694-a055-913dc24cd5be",
   "metadata": {},
   "outputs": [],
   "source": [
    "# Apply One-Hot Encoding for Unordered Categorical Features\n",
    "df = pd.get_dummies(df, columns=[\"Access_to_Resources\" , \"Learning_Disabilities\" , \"Extracurricular_Activities\" , \"Motivation_Level\",\n",
    "                                  \"Internet_Access\" , \"School_Type\" , \"Peer_Influence\" , \"Gender\"], drop_first=True)"
   ]
  },
  {
   "cell_type": "code",
   "execution_count": null,
   "id": "ab2662e1-2756-4b45-81d4-79bff2d2bb93",
   "metadata": {},
   "outputs": [],
   "source": [
    "\n",
    "# Define Features (X) and Target (Y)\n",
    "X = df.drop(columns=[\"Exam_Score\"])  # All columns except target\n",
    "Y = df[\"Exam_Score\"]  # Target variable"
   ]
  },
  {
   "cell_type": "code",
   "execution_count": null,
   "id": "7067f5db-4924-403e-9f06-cac926b9a237",
   "metadata": {},
   "outputs": [],
   "source": [
    "X_train, X_test, Y_train, Y_test = train_test_split(X, Y, test_size=0.2, random_state=42)"
   ]
  },
  {
   "cell_type": "code",
   "execution_count": null,
   "id": "15c0b164-5cf3-425a-8e97-36f018f94afe",
   "metadata": {},
   "outputs": [],
   "source": [
    "model = LinearRegression()"
   ]
  },
  {
   "cell_type": "code",
   "execution_count": null,
   "id": "1aa2c5a6-fc03-4370-87ab-910f2c1470e9",
   "metadata": {
    "scrolled": true
   },
   "outputs": [],
   "source": [
    "model.fit(X_train, Y_train)"
   ]
  },
  {
   "cell_type": "code",
   "execution_count": null,
   "id": "906baa65-a61b-4b73-8750-37dbb3bdd5fa",
   "metadata": {},
   "outputs": [],
   "source": [
    "print(f\"Intercept (b): {model.intercept_:.2f}\")  # The base score when all features are 0\n",
    "coefficients = pd.DataFrame(model.coef_, X.columns, columns=['Coefficient'])\n",
    "print(coefficients)\n"
   ]
  },
  {
   "cell_type": "code",
   "execution_count": null,
   "id": "7ae1c323-d038-45c7-9b34-2c90af84724c",
   "metadata": {},
   "outputs": [],
   "source": [
    "Y_pred = model.predict(X_test)\n"
   ]
  },
  {
   "cell_type": "code",
   "execution_count": null,
   "id": "86a12ee9-5c56-4a5f-b17c-000d7a6e78ee",
   "metadata": {},
   "outputs": [],
   "source": [
    "# Compute errors\n",
    "mse = mean_squared_error(Y_test, Y_pred)\n",
    "r2 = r2_score(Y_test, Y_pred)\n",
    "\n",
    "print(f\"Mean Squared Error (MSE): {mse:.2f}\")\n",
    "print(f\"R² Score: {r2:.2f}\")"
   ]
  },
  {
   "cell_type": "code",
   "execution_count": null,
   "id": "fbb8ea26-1861-432b-8f0e-fa55b32633b3",
   "metadata": {},
   "outputs": [],
   "source": [
    "# Create scatter plot\n",
    "plt.figure(figsize=(8, 6))\n",
    "sns.scatterplot(x=Y_test.values.flatten(), y=Y_test.values.flatten(), color=\"blue\", label=\"Actual\", alpha=0.6)  # Actual values\n",
    "sns.scatterplot(x=Y_test.values.flatten(), y=Y_pred.flatten(), color=\"red\", label=\"Predicted\", alpha=0.6)  # Predicted values\n",
    "\n",
    "# Plot a reference diagonal line (perfect predictions)\n",
    "plt.plot([Y_test.min(), Y_test.max()], [Y_test.min(), Y_test.max()], color=\"black\", linestyle=\"--\", label=\"Perfect Fit\")\n",
    "\n",
    "# Labels, title, and legend\n",
    "plt.xlabel(\"Actual Exam Scores\")\n",
    "plt.ylabel(\"Predicted Exam Scores\")\n",
    "plt.title(\"Actual vs. Predicted Exam Scores\")\n",
    "plt.legend()\n",
    "plt.show()"
   ]
  },
  {
   "cell_type": "code",
   "execution_count": null,
   "id": "a836dc47-0f27-46e1-bbde-71d2b1bdd85b",
   "metadata": {
    "scrolled": true
   },
   "outputs": [],
   "source": [
    "coefficients = pd.DataFrame(model.coef_, X.columns, columns=['Coefficient'])\n",
    "coefficients = coefficients.sort_values(by=\"Coefficient\", ascending=False)\n",
    "print(coefficients)\n"
   ]
  },
  {
   "cell_type": "code",
   "execution_count": null,
   "id": "9c7f024d-a410-4b1c-9594-dd0385f7e2c1",
   "metadata": {},
   "outputs": [],
   "source": [
    "r2_train = r2_score(Y_train, model.predict(X_train))\n",
    "r2_test = r2_score(Y_test, Y_pred)\n",
    "\n",
    "print(f\"R² Score on Training Data: {r2_train:.4f}\")\n",
    "print(f\"R² Score on Test Data: {r2_test:.4f}\")\n"
   ]
  },
  {
   "cell_type": "code",
   "execution_count": null,
   "id": "a77f52fe-5d5e-45fb-bd6d-9095659fa1b9",
   "metadata": {},
   "outputs": [],
   "source": []
  }
 ],
 "metadata": {
  "kernelspec": {
   "display_name": "Python 3 (ipykernel)",
   "language": "python",
   "name": "python3"
  },
  "language_info": {
   "codemirror_mode": {
    "name": "ipython",
    "version": 3
   },
   "file_extension": ".py",
   "mimetype": "text/x-python",
   "name": "python",
   "nbconvert_exporter": "python",
   "pygments_lexer": "ipython3",
   "version": "3.12.0"
  }
 },
 "nbformat": 4,
 "nbformat_minor": 5
}
